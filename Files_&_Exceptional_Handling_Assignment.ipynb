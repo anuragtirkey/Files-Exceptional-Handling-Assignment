{
  "nbformat": 4,
  "nbformat_minor": 0,
  "metadata": {
    "colab": {
      "provenance": []
    },
    "kernelspec": {
      "name": "python3",
      "display_name": "Python 3"
    },
    "language_info": {
      "name": "python"
    }
  },
  "cells": [
    {
      "cell_type": "markdown",
      "source": [
        "# Files & Exceptional Handling Assignment\n",
        "\n",
        "1. What is the difference between interpreted and compiled languages?\n",
        "\n",
        "  Ans. The difference b/w interpreted and compiled language is as follows:\n",
        "\n",
        "  Interpreted Languages:\n",
        "\n",
        "  - How they work: Code is executed line-by-line by an interpreter.\n",
        "  - Speed: Generally slower because the interpreter reads and executes code one line at a time.\n",
        "  - Examples: Python, Java\n",
        "  - Flexibility: Easier to test and debug since you can run code immediately after writing it without compiling.\n",
        "\n",
        "  Compiled Languages:\n",
        "\n",
        "  - How they work: Code is transformed into machine code (binary) by a compiler before execution.\n",
        "  - Speed: Generally faster because the entire program is translated into machine code and then run.\n",
        "  - Examples: C, C++\n",
        "  - Flexibility: Requires a separate compile step, which can make the development process a bit slower but often results in more optimized code.\n",
        "\n",
        "  In Short, interpreted languages run code directly and are usually easier to debug, while compiled languages are converted into machine code first and tend to run faster.\n",
        "\n",
        "2.\tWhat is exception handling in Python?\n",
        "\n",
        "  Ans. Exception handling in Python is a way to deal with errors that occur while your program is running. Instead of the program crashing, you can use exception handling to catch errors and handle them gracefully.\n",
        "\n",
        "3.\tWhat is the purpose of the finally block in exception handling?\n",
        "\n",
        "  Ans. The finally block in exception handling serves a specific purpose: to ensure that certain code runs no matter what happens in the try and except blocks. This is particularly useful for cleanup tasks that must be performed regardless of whether an error occurred.\n",
        "\n",
        "4.\tWhat is logging in Python?\n",
        "\n",
        "  Ans. Logging in Python is a way to keep track of events that happen while your code runs. It's like writing notes in a journal about what your program is doing, which can be really helpful for debugging and understanding your code's behavior.\n",
        "\n",
        "5.\tWhat is the significance of the __del__ method in Python?\n",
        "\n",
        "  Ans. The __del__ method in Python is known as a \"destructor.\" Its primary significance lies in performing cleanup actions when an object is about to be destroyed. This method is called when an object's reference count reaches zero, which means there are no more references to it.\n",
        "\n",
        "6.\tWhat is the difference between import and from ... import in Python?\n",
        "\n",
        "  Ans. The difference is as follows:\n",
        "\n",
        "  (i) import Statement:\n",
        "\n",
        "  - How it works: Imports an entire module.\n",
        "  - Usage: You need to use the module name whenever you call a function or access a variable from that module.\n",
        "  - Brings in the entire module, and you use the module name to access its contents.\n",
        "\n",
        "  (ii) from ... import Statement:\n",
        "\n",
        "  - How it works: Imports specific functions, classes, or variables from a module.\n",
        "  - Usage: You don't need to use the module name; you can directly use the imported functions or variables.\n",
        "  - Brings in specific parts of a module, so you can use them directly without the module name.\n",
        "\n",
        "7.\tHow can you handle multiple exceptions in Python?\n",
        "\n",
        "  Ans. Handling multiple exceptions in Python is quite straightforward. You can do it by specifying multiple except blocks to handle different types of exceptions separately. This way, you can tailor your error handling to different scenarios.\n",
        "\n",
        "  Using multiple except blocks allows you to handle different errors in a way that makes sense for your program, making your error handling more flexible and robust.\n",
        "\n",
        "8.\tWhat is the purpose of the with statement when handling files in Python?\n",
        "\n",
        "  Ans. The with statement in Python is used to handle files and other resources in a clean and efficient manner. Its main purpose is to ensure that resources are properly managed, even if an error occurs.\n",
        "\n",
        "  It is useful for:\n",
        "\n",
        "  - Automatic Cleanup: The with statement ensures that the file is closed automatically after the block of code is executed, whether an exception occurs or not.\n",
        "  - Simplified Code: It makes the code cleaner and more concise, avoiding the need for explicit try and finally blocks to close the file.\n",
        "\n",
        "  Using the with statement makes the code shorter and ensures that the file is always properly closed, reducing the risk of resource leaks.\n",
        "\n",
        "9.\tWhat is the difference between multithreading and multiprocessing?\n",
        "\n",
        "  Ans. the difference between multithreading and multiprocessing in Python:\n",
        "\n",
        "  (i) Multithreading:\n",
        "\n",
        "  - Definition: Multithreading involves running multiple threads (smaller units of a process) concurrently within the same process.\n",
        "  - Use Case: It's useful for I/O-bound tasks where the program waits for external resources (like reading/writing files, network operations).\n",
        "  - GIL: In Python, multithreading is affected by the Global Interpreter Lock (GIL), which means that only one thread executes Python bytecode at a time. So, it may not always provide performance benefits for CPU-bound tasks.\n",
        "  - Example: Reading multiple files simultaneously.\n",
        "\n",
        "  (ii) Multiprocessing:\n",
        "\n",
        "  - Definition: Multiprocessing involves running multiple processes, each with its own Python interpreter and memory space.\n",
        "  - Use Case: It's useful for CPU-bound tasks where you need to perform heavy computations.\n",
        "  - No GIL: Multiprocessing bypasses the Global Interpreter Lock (GIL) because each process has its own GIL, allowing true parallelism.\n",
        "  - Example: Performing complex calculations in parallel.\n",
        "\n",
        "10.\tWhat are the advantages of using logging in a program?\n",
        "\n",
        "  Ans. Using logging in a program comes with several advantages that can greatly enhance the development, maintenance, and debugging processes. Here are some key benefits:\n",
        "\n",
        "  (a) Debugging:\n",
        "\n",
        "  - Detailed Information: Logs provide detailed information about the program's execution, making it easier to trace and debug issues.\n",
        "  - Error Context: Logs capture the context in which errors occur, helping you understand why they happened.\n",
        "\n",
        "  (b) Monitoring:\n",
        "\n",
        "  - Track Program Behavior: Logging helps you monitor the behavior of your program in real-time or through historical data.\n",
        "  - Performance Metrics: Logs can capture performance metrics, such as execution times, which can help in identifying bottlenecks.\n",
        "\n",
        "  (c) Maintenance:\n",
        "\n",
        "  - Identify Issues Early: Regularly reviewing logs can help you identify and address issues before they become critical problems.\n",
        "  - Historical Records: Logs provide a historical record of events, which can be useful for maintenance and troubleshooting.\n",
        "\n",
        "  (d) Security:\n",
        "\n",
        "  - Audit Trails: Logging can create audit trails that track access and modifications to sensitive data, enhancing security and compliance.\n",
        "  - Detecting Intrusions: Logs can help in detecting unauthorized access or unusual activity in the system.\n",
        "\n",
        "  (e) Communication:\n",
        "\n",
        "  - Informative Messages: Logs can provide informative messages to developers, users, or support teams, improving communication and transparency.\n",
        "  - User-Friendly Error Handling: Instead of displaying cryptic error messages to users, you can log detailed errors and show user-friendly messages.\n",
        "\n",
        "  (f) Scalability:\n",
        "\n",
        "  - Distributed Systems: In distributed systems, logging helps in correlating events across different components, making it easier to understand the overall system behavior.\n",
        "\n",
        "  (g) Testing:\n",
        "\n",
        "  - Automated Testing: Logs can capture the results of automated tests, making it easier to verify the correctness of your code.\n",
        "  - Regression Testing: Historical logs can help in identifying changes that caused regressions.\n",
        "\n",
        "  Overall, logging is a powerful tool that improves the reliability, maintainability, and overall quality of your software.\n",
        "\n",
        "11.\tWhat is memory management in Python?\n",
        "\n",
        "  Ans. Memory management in Python involves efficiently handling and allocating memory while your program is running. Python has a built-in system that takes care of memory management for you, so you can focus on writing code without worrying too much about low-level memory details.\n",
        "\n",
        "12.\tWhat are the basic steps involved in exception handling in Python?\n",
        "\n",
        "  Ans. Exception handling in Python involves a few key steps to manage errors and ensure your program runs smoothly. the basic steps involved in exception handling in Python are:\n",
        "\n",
        "  - Use a try block for code that might raise an exception.\n",
        "  - Use except blocks to handle specific exceptions.\n",
        "  - Use multiple except blocks to handle different types of exceptions.\n",
        "  - Use a general except block to catch any exception.\n",
        "  - Use a finally block to execute code that should run no matter what.\n",
        "\n",
        "  These steps help you manage errors gracefully and keep your programs running smoothly.\n",
        "\n",
        "13.\tWhy is memory management important in Python?\n",
        "\n",
        "  Ans. Memory management is crucial in Python, and in any programming language, for several reasons:\n",
        "\n",
        "  (i) Efficient Resource Use:\n",
        "\n",
        "  - Avoids Memory Leaks: Proper memory management ensures that memory no longer needed by the program is released, preventing memory leaks that can lead to inefficient resource use and system slowdowns.\n",
        "\n",
        "  - Optimizes Performance: Efficient memory use helps in optimizing the performance of your programs by ensuring that only the required memory is allocated.\n",
        "\n",
        "  (ii) Stability and Reliability:\n",
        "\n",
        "  - Prevents Crashes: Effective memory management can prevent your program from crashing due to running out of memory or encountering unexpected memory-related errors.\n",
        "\n",
        "  - Improves Reliability: Programs that manage memory well are generally more reliable and stable, providing a better user experience.\n",
        "\n",
        "  (iii) Simplifies Development:\n",
        "\n",
        "  - Abstracts Complexity: Python's automatic memory management abstracts the complexity of manual memory allocation and deallocation, allowing developers to focus on writing code rather than managing memory.\n",
        "\n",
        "  - Reduces Bugs: Automatic memory management reduces the risk of memory-related bugs, such as double free errors or buffer overflows, which can be challenging to debug.\n",
        "\n",
        "  (iv) Garbage Collection:\n",
        "\n",
        "  - Handles Reference Cycles: Python's garbage collector can detect and clean up reference cycles, where objects reference each other, preventing them from being deallocated automatically.\n",
        "\n",
        "  - Automatic Cleanup: The garbage collector periodically frees up memory that is no longer needed, ensuring efficient memory use without manual intervention.\n",
        "\n",
        "  (v) Resource Management:\n",
        "\n",
        "  - Ensures Cleanup: Memory management includes the proper release of resources like file handles, database connections, and network sockets, ensuring that these resources are available for other parts of the program or other programs.\n",
        "\n",
        "  In summary, memory management is essential for:\n",
        "\n",
        "  - Efficiently using system resources\n",
        "  - Ensuring the stability and reliability of your programs\n",
        "  - Simplifying development by abstracting complex memory operations\n",
        "  - Reducing the risk of memory-related bugs\n",
        "  \n",
        "  By managing memory effectively, Python helps developers create programs that are both efficient and robust.\n",
        "\n",
        "14.\tWhat is the role of try and except in exception handling?\n",
        "\n",
        "  Ans. The try and except statements are fundamental components of exception handling in Python. Their roles can be summarized as follows:\n",
        "\n",
        "  Try Block:\n",
        "\n",
        "  - Role: The try block contains the code that might cause an exception. It's where you write the code that you want to monitor for potential errors.\n",
        "  - The try block lets you test a block of code for errors.\n",
        "\n",
        "  Except Block:\n",
        "\n",
        "  Role: The except block contains the code that will run if an exception occurs in the try block. You can specify the type of exception you want to handle and provide the appropriate response or corrective action.\n",
        "  - The except block lets you handle the error, preventing the program from crashing.\n",
        "\n",
        "15.\tHow does Python's garbage collection system work?\n",
        "\n",
        "  Ans. Python's garbage collection system works to automatically manage memory by identifying and reclaiming unused memory, ensuring efficient use of resources.\n",
        "\n",
        "16.\tWhat is the purpose of the else block in exception handling?\n",
        "\n",
        "  Ans. The else block in exception handling is used to define code that should run only if no exceptions were raised in the try block. It adds clarity to your code by separating the main logic (in the try block) from the error handling (in the except block) and from the code that should execute if everything goes smoothly (in the else block).\n",
        "\n",
        "  The else block is particularly useful for code that should only execute if the try block succeeds without any errors. It keeps your error handling and normal execution logic separate, making your code more organized and readable.\n",
        "\n",
        "17.\tWhat are the common logging levels in Python?\n",
        "\n",
        "  Ans. In Python, the logging module provides several standard logging levels, each indicating the severity or importance of the logged message. Here are the common logging levels in ascending order of severity:\n",
        "\n",
        "  1. DEBUG - logging.debug()\n",
        "  2. INFO  - logging.info()\n",
        "  3. WARNING - logging.warning()\n",
        "  4. ERROR - logging.error()\n",
        "  5. CRITICAL - logging.critical()\n",
        "\n",
        "  Each logging level helps you categorize and prioritize the logged messages, making it easier to monitor and debug your programs.\n",
        "\n",
        "18.\tWhat is the difference between os.fork() and multiprocessing in Python?\n",
        "\n",
        "  Ans. the difference between os.fork() and the multiprocessing module in Python:\n",
        "\n",
        "  os.fork():\n",
        "\n",
        "  - Definition: os.fork() is a function in the os module that is used to create a new process by duplicating the current process.\n",
        "\n",
        "  - Platform: It is available on Unix-based systems (like Linux and macOS) but not on Windows.\n",
        "\n",
        "  - Process Creation: When you call os.fork(), it creates a new process (child process) that is an exact copy of the current process (parent process). Both processes continue to run the same code, but with different process IDs.\n",
        "\n",
        "  - Use Case: It’s useful for creating simple parallel processes but requires careful management of shared resources and communication between processes.\n",
        "\n",
        "  multiprocessing Module:\n",
        "\n",
        "  - Definition: The multiprocessing module is a higher-level library that provides a more flexible and powerful way to create and manage multiple processes.\n",
        "\n",
        "  - Platform: It is available on all platforms, including Unix-based systems and Windows.\n",
        "\n",
        "  - Process Creation: The multiprocessing module allows you to create new processes using the Process class. Each process runs independently and has its own memory space.\n",
        "\n",
        "  - Ease of Use: It provides mechanisms for process synchronization, communication, and sharing data between processes, making it easier to manage parallel tasks.\n",
        "\n",
        "  - Use Case: It’s useful for CPU-bound tasks and when you need to perform complex parallel processing with proper management of resources and communication.\n",
        "\n",
        "19.\tWhat is the importance of closing a file in Python?\n",
        "\n",
        "  Ans.\n",
        "  - Closing a file in Python is crucial for efficient resource management, ensuring data integrity, and maintaining program consistency.\n",
        "  - When you close a file, it releases the associated resources, such as file handles, preventing resource leaks that can occur if too many files remain open.\n",
        "  - Closing a file also flushes any buffered data, ensuring that all written data is properly saved and avoiding data loss.\n",
        "  - Additionally, it ensures the file is in a consistent state, preventing corruption and making it available for other programs or parts of your program to access without conflicts.\n",
        "  - Using the with statement simplifies this process by automatically handling the closing of files, reducing the risk of errors and making the code cleaner and more reliable.\n",
        "  - Overall, proper file management is essential for stable and efficient program execution.\n",
        "\n",
        "20.\tWhat is the difference between file.read() and file.readline() in Python?\n",
        "\n",
        "  Ans. Here are the differences between file.read() and file.readline() in Python:\n",
        "\n",
        "  file.read():\n",
        "\n",
        "  - Reads the Entire File: Reads the entire contents of the file and returns it as a single string.\n",
        "  - Use Case: Useful when you want to load the whole file into memory at once.\n",
        "\n",
        "  file.readline():\n",
        "\n",
        "  - Reads One Line at a Time: Reads a single line from the file and returns it as a string.\n",
        "  - Use Case: Useful when you want to process the file line by line.\n",
        "\n",
        "21.\tWhat is the logging module in Python used for?\n",
        "\n",
        "  Ans.  The logging module in Python is used for tracking events that occur while your code runs. It provides a flexible framework for emitting log messages from Python programs. Here are some of its key purposes:\n",
        "\n",
        "  - Debugging: Helps in diagnosing and troubleshooting issues by providing detailed information about the program's execution.\n",
        "\n",
        "  - Monitoring: Allows you to monitor the behavior of your program in real-time or through historical log data.\n",
        "\n",
        "  - Error Tracking: Captures and records errors and exceptions that occur during program execution.\n",
        "\n",
        "  - Audit and Security: Records events for audit trails, ensuring security compliance and detecting suspicious activities.\n",
        "\n",
        "  - Performance Metrics: Helps in measuring performance metrics and identifying bottlenecks in the code.\n",
        "\n",
        "  - Communication: Facilitates communication by providing informative messages to developers, users, or support teams.\n",
        "\n",
        "22.\tWhat is the os module in Python used for in file handling?\n",
        "\n",
        "  Ans. The os module in Python provides a way to interact with the operating system, and it includes several functions for file handling. Here are some key functions and their uses:\n",
        "\n",
        "  1. Creating and Removing Directories:\n",
        "\n",
        "    - os.mkdir(path): Creates a new directory.\n",
        "    - os.rmdir(path): Removes an empty directory.\n",
        "\n",
        "  2. Changing Directories:\n",
        "\n",
        "    - os.chdir(path): Changes the current working directory.\n",
        "  \n",
        "  3. Listing Directory Contents:\n",
        "\n",
        "    - os.listdir(path): Returns a list of the names of the entries in the specified directory.\n",
        "\n",
        "  4. Removing Files:\n",
        "\n",
        "    - os.remove(path): Removes (deletes) a file.\n",
        "\n",
        "  5. Renaming Files and Directories:\n",
        "\n",
        "    - os.rename(src, dst): Renames a file or directory from src to dst.\n",
        "\n",
        "  6. Checking File Existence:\n",
        "\n",
        "    - os.path.exists(path): Returns True if the path exists, False otherwise.\n",
        "\n",
        "  7. Getting File Information:\n",
        "\n",
        "    - os.stat(path): Returns file attributes like size, modification time, etc.\n",
        "\n",
        "23.\tWhat are the challenges associated with memory management in Python?\n",
        "\n",
        "  Ans. while Python's automatic memory management simplifies many aspects of memory handling, challenges like reference cycles, performance overhead, memory leaks, GIL limitations, fragmentation, and handling large objects require careful consideration and best practices to ensure efficient and effective memory management.\n",
        "\n",
        "24.\tHow do you raise an exception manually in Python?\n",
        "\n",
        "  Ans. In Python, you can raise an exception manually using the raise statement. This allows you to create and trigger exceptions intentionally in your code.\n",
        "\n",
        "  A. Raise a Built-in Exception:\n",
        "\n",
        "    - You can raise a built-in exception like ValueError, TypeError, KeyError, etc.\n",
        "    - raise ValueError()\n",
        "\n",
        "  B. Raise a Custom Exception:\n",
        "\n",
        "    - You can define your own exception class by inheriting from the built-in Exception class and then raise it.\n",
        "    - class CustomError(Exception): >> pass >> raise CustomError()\n",
        "\n",
        "25.\tWhy is it important to use multithreading in certain applications?\n",
        "\n",
        "  Ans. Multithreading is important in certain applications because it allows for more efficient use of resources and improves the performance and responsiveness of programs. Here are some key reasons why multithreading is beneficial:\n",
        "\n",
        "  - Concurrent Execution: Multithreading enables multiple threads to run concurrently, allowing a program to perform multiple tasks at the same time. This is especially useful for tasks that can be executed independently, such as handling multiple user requests or processing different parts of a dataset simultaneously.\n",
        "\n",
        "  - Improved Performance: For I/O-bound tasks (e.g., reading/writing files, network operations), multithreading can significantly improve performance by allowing other threads to continue executing while one thread is waiting for I/O operations to complete. This helps in better utilization of CPU and reduces idle time.\n",
        "\n",
        "  - Responsive User Interfaces: In applications with graphical user interfaces (GUIs), multithreading can keep the UI responsive by offloading time-consuming tasks to background threads. This ensures that the main thread remains available to handle user interactions, preventing the application from freezing or becoming unresponsive.\n",
        "\n",
        "  - Efficient Resource Sharing: Threads within the same process share the same memory space, which allows for efficient communication and data sharing between threads. This is useful for tasks that require frequent interaction or data exchange between different parts of the program.\n",
        "\n",
        "  - Parallelism: In multi-core processors, multithreading can take advantage of parallelism by distributing threads across multiple CPU cores. This can lead to significant performance gains for CPU-bound tasks that can be divided into smaller, parallelizable units of work.\n",
        "\n",
        "  - Scalability: Multithreading can help scale applications to handle higher workloads by efficiently utilizing available system resources. This is particularly important in server applications that need to handle multiple client requests simultaneously.\n",
        "\n",
        "  In short, multithreading enhances the efficiency, performance, and responsiveness of applications by enabling concurrent execution, better resource utilization, and effective parallelism. It is a powerful tool for improving the overall user experience and scalability of software systems.\n"
      ],
      "metadata": {
        "id": "4QaMt4Y_eyJQ"
      }
    },
    {
      "cell_type": "markdown",
      "source": [
        "# Practical Questions\n",
        "\n",
        "1.\tHow can you open a file for writing in Python and write a string to it?"
      ],
      "metadata": {
        "id": "vcrxVb6awxMx"
      }
    },
    {
      "cell_type": "code",
      "source": [
        "with open(\"example.txt\", \"w\") as file:\n",
        "    file.write(\"Hello, world!\")\n"
      ],
      "metadata": {
        "id": "14uXobWWxH1Y"
      },
      "execution_count": 1,
      "outputs": []
    },
    {
      "cell_type": "markdown",
      "source": [
        "2.\tWrite a Python program to read the contents of a file and print each line."
      ],
      "metadata": {
        "id": "hGMv7gDUxUK7"
      }
    },
    {
      "cell_type": "code",
      "source": [
        "with open(\"example.txt\", \"r\") as file:\n",
        "\n",
        "    for line in file:\n",
        "        print(line, end=\"\")\n"
      ],
      "metadata": {
        "colab": {
          "base_uri": "https://localhost:8080/"
        },
        "id": "54RB1TuTxWit",
        "outputId": "3f6a74d0-b79e-4e64-9ee5-deb3fb4f820c"
      },
      "execution_count": 2,
      "outputs": [
        {
          "output_type": "stream",
          "name": "stdout",
          "text": [
            "Hello, world!"
          ]
        }
      ]
    },
    {
      "cell_type": "markdown",
      "source": [
        "3.\tHow would you handle a case where the file doesn't exist while trying to open it for reading?"
      ],
      "metadata": {
        "id": "NaMBB96DxrJm"
      }
    },
    {
      "cell_type": "code",
      "source": [
        "try:\n",
        "  with open(\"nonexistent_file.txt\", \"r\") as file:\n",
        "        content = file.read()\n",
        "        print(content)\n",
        "\n",
        "except FileNotFoundError:\n",
        "\n",
        "    print(\"The file does not exist. Please check the file name and try again.\")\n"
      ],
      "metadata": {
        "colab": {
          "base_uri": "https://localhost:8080/"
        },
        "id": "jFnBbaW7x-eC",
        "outputId": "4435a552-e3df-4477-e4fa-03cc3889d154"
      },
      "execution_count": 3,
      "outputs": [
        {
          "output_type": "stream",
          "name": "stdout",
          "text": [
            "The file does not exist. Please check the file name and try again.\n"
          ]
        }
      ]
    },
    {
      "cell_type": "markdown",
      "source": [
        "4.\tWrite a Python script that reads from one file and writes its content to another file."
      ],
      "metadata": {
        "id": "SzgCd6pOyIoN"
      }
    },
    {
      "cell_type": "code",
      "source": [
        "with open(\"source_file.txt\", \"w\") as file:\n",
        "    file.write(\"Hello, world!\")"
      ],
      "metadata": {
        "id": "qJ9ORtB6zRX6"
      },
      "execution_count": 6,
      "outputs": []
    },
    {
      "cell_type": "code",
      "source": [
        "with open(\"source_file.txt\", \"r\") as source_file:\n",
        "    content = source_file.read()\n",
        "\n",
        "with open(\"destination_file.txt\", \"w\") as destination_file:\n",
        "    destination_file.write(content)\n"
      ],
      "metadata": {
        "id": "MBwiGZkEzXh1"
      },
      "execution_count": 7,
      "outputs": []
    },
    {
      "cell_type": "markdown",
      "source": [
        "5.\tHow would you catch and handle division by zero error in Python?"
      ],
      "metadata": {
        "id": "gZCw_yySzlNY"
      }
    },
    {
      "cell_type": "code",
      "source": [
        "try:\n",
        "  result = 10 / 0\n",
        "except ZeroDivisionError:\n",
        "    print(\"Error: Division by zero is not allowed.\")\n",
        "else:\n",
        "    print(f\"The result is {result}\")\n",
        "finally:\n",
        "    print(\"Execution complete.\")\n"
      ],
      "metadata": {
        "colab": {
          "base_uri": "https://localhost:8080/"
        },
        "id": "Ao2wOVaqzo_6",
        "outputId": "afd494ce-2120-492a-f51c-50f7c1ce4631"
      },
      "execution_count": 9,
      "outputs": [
        {
          "output_type": "stream",
          "name": "stdout",
          "text": [
            "Error: Division by zero is not allowed.\n",
            "Execution complete.\n"
          ]
        }
      ]
    },
    {
      "cell_type": "markdown",
      "source": [
        "6.\tWrite a Python program that logs an error message to a log file when a division by zero exception occurs."
      ],
      "metadata": {
        "id": "HQq7RT93z7rA"
      }
    },
    {
      "cell_type": "code",
      "source": [
        "import logging\n",
        "\n",
        "logging.basicConfig(filename='error_log.txt', level=logging.ERROR,\n",
        "                    format='%(asctime)s - %(levelname)s - %(message)s')\n",
        "\n",
        "def divide(a, b):\n",
        "    try:\n",
        "        result = a / b\n",
        "        return result\n",
        "    except ZeroDivisionError:\n",
        "        logging.error(\"Division by zero occurred. Attempted to divide %s by %s.\", a, b)\n",
        "        return None\n",
        "\n",
        "# use\n",
        "result = divide(10, 0)\n",
        "if result is None:\n",
        "    print(\"An error occurred. Check the log file for details.\")\n"
      ],
      "metadata": {
        "colab": {
          "base_uri": "https://localhost:8080/"
        },
        "id": "3rhwJ0hv0FIC",
        "outputId": "eb105b55-2cfc-4a40-d2ce-54aaf1b879c3"
      },
      "execution_count": 10,
      "outputs": [
        {
          "output_type": "stream",
          "name": "stderr",
          "text": [
            "ERROR:root:Division by zero occurred. Attempted to divide 10 by 0.\n"
          ]
        },
        {
          "output_type": "stream",
          "name": "stdout",
          "text": [
            "An error occurred. Check the log file for details.\n"
          ]
        }
      ]
    },
    {
      "cell_type": "markdown",
      "source": [
        "7.\tHow do you log information at different levels (INFO, ERROR, WARNING) in Python using the logging module?"
      ],
      "metadata": {
        "id": "vh_rAcAC0Y95"
      }
    },
    {
      "cell_type": "code",
      "source": [
        "import logging\n",
        "\n",
        "logging.basicConfig(level=logging.DEBUG, format='%(asctime)s - %(levelname)s - %(message)s')\n",
        "\n",
        "logging.debug(\"This is a debug message\")\n",
        "logging.info(\"This is an info message\")\n",
        "logging.warning(\"This is a warning message\")\n",
        "logging.error(\"This is an error message\")\n",
        "logging.critical(\"This is a critical message\")\n"
      ],
      "metadata": {
        "colab": {
          "base_uri": "https://localhost:8080/"
        },
        "id": "9Gyj6Emo0eOs",
        "outputId": "0225d142-a0c8-4be1-fb45-81c6ed264a47"
      },
      "execution_count": 12,
      "outputs": [
        {
          "output_type": "stream",
          "name": "stderr",
          "text": [
            "WARNING:root:This is a warning message\n",
            "ERROR:root:This is an error message\n",
            "CRITICAL:root:This is a critical message\n"
          ]
        }
      ]
    },
    {
      "cell_type": "markdown",
      "source": [
        "8.\tWrite a program to handle a file opening error using exception handling."
      ],
      "metadata": {
        "id": "zwA7TgJu0-MQ"
      }
    },
    {
      "cell_type": "code",
      "source": [
        "try:\n",
        "    # Attempt to open the file for reading\n",
        "    with open(\"nonexistent_file.txt\", \"r\") as file:\n",
        "        content = file.read()\n",
        "        print(content)\n",
        "except FileNotFoundError:\n",
        "    # Handle the case where the file doesn't exist\n",
        "    print(\"Error: The file does not exist. Please check the file name and try again.\")\n",
        "\n"
      ],
      "metadata": {
        "colab": {
          "base_uri": "https://localhost:8080/"
        },
        "id": "vds7aXXQ1Bi3",
        "outputId": "8ab499af-e652-49da-d81a-63d1c352db12"
      },
      "execution_count": 14,
      "outputs": [
        {
          "output_type": "stream",
          "name": "stdout",
          "text": [
            "Error: The file does not exist. Please check the file name and try again.\n"
          ]
        }
      ]
    },
    {
      "cell_type": "markdown",
      "source": [
        "9.\tHow can you read a file line by line and store its content in a list in Python?"
      ],
      "metadata": {
        "id": "_wpBSEfE1pHH"
      }
    },
    {
      "cell_type": "code",
      "source": [
        "with open(\"example.txt\", \"r\") as file:\n",
        "        lines = file.readlines()\n",
        "\n",
        "print(lines)\n"
      ],
      "metadata": {
        "colab": {
          "base_uri": "https://localhost:8080/"
        },
        "id": "XHoK-Ths1r3j",
        "outputId": "6cabb3d3-a760-49a7-e7d5-3ebe245bff17"
      },
      "execution_count": 15,
      "outputs": [
        {
          "output_type": "stream",
          "name": "stdout",
          "text": [
            "['Hello, world!']\n"
          ]
        }
      ]
    },
    {
      "cell_type": "markdown",
      "source": [
        "10.\tHow can you append data to an existing file in Python?"
      ],
      "metadata": {
        "id": "LbmROlbc16Km"
      }
    },
    {
      "cell_type": "code",
      "source": [
        "with open(\"example.txt\", \"a\") as file:\n",
        "\n",
        "    file.write(\"This is the new content being appended.\\n\")\n",
        "\n",
        "# The file now contains the new content appended to its existing content.\n"
      ],
      "metadata": {
        "id": "8qsHKiGK19yC"
      },
      "execution_count": 16,
      "outputs": []
    },
    {
      "cell_type": "markdown",
      "source": [
        "11.\tWrite a Python program that uses a try-except block to handle an error when attempting to access a dictionary key that doesn't exist."
      ],
      "metadata": {
        "id": "aks62Hne2Mxj"
      }
    },
    {
      "cell_type": "code",
      "source": [
        "my_dict = {\"name\": \"Anurag\", \"age\": 41, \"city\": \"New Delhi\"}\n",
        "\n",
        "# Attempt to access a key that doesn't exist\n",
        "try:\n",
        "    value = my_dict[\"country\"]\n",
        "except KeyError:\n",
        "    print(\"Error: The key 'country' does not exist in the dictionary.\")\n",
        "else:\n",
        "    print(f\"The value is {value}\")\n",
        "\n",
        "print(\"Execution complete.\")\n"
      ],
      "metadata": {
        "colab": {
          "base_uri": "https://localhost:8080/"
        },
        "id": "XAZYm8iG2P6a",
        "outputId": "b892d0cd-acc2-469c-f094-324fdd54a23b"
      },
      "execution_count": 18,
      "outputs": [
        {
          "output_type": "stream",
          "name": "stdout",
          "text": [
            "Error: The key 'country' does not exist in the dictionary.\n",
            "Execution complete.\n"
          ]
        }
      ]
    },
    {
      "cell_type": "markdown",
      "source": [
        "12.\tWrite a program that demonstrates using multiple except blocks to handle different types of exceptions."
      ],
      "metadata": {
        "id": "ibsuCh6E23r-"
      }
    },
    {
      "cell_type": "code",
      "source": [
        "def divide(a, b):\n",
        "    try:\n",
        "        result = a / b\n",
        "        return result\n",
        "    except ZeroDivisionError:\n",
        "        # Handle division by zero error\n",
        "        print(\"Error: Division by zero is not allowed.\")\n",
        "    except TypeError:\n",
        "        # Handle incorrect type error\n",
        "        print(\"Error: Both arguments must be numbers.\")\n",
        "    except Exception as e:\n",
        "        # Handle any other exceptions\n",
        "        print(f\"An unexpected error occurred: {e}\")\n",
        "\n",
        "# Use\n",
        "print(divide(10, 2))   # Should print the result of the division\n",
        "print(divide(10, 0))   # Should print \"Error: Division by zero is not allowed.\"\n",
        "print(divide(10, \"a\")) # Should print \"Error: Both arguments must be numbers.\"\n",
        "print(divide(None, 2)) # Should print \"An unexpected error occurred: unsupported operand type(s) for /: 'NoneType' and 'int'\"\n"
      ],
      "metadata": {
        "colab": {
          "base_uri": "https://localhost:8080/"
        },
        "id": "VrzKc22I3dru",
        "outputId": "9c8a95d4-70b1-4e7a-c2cb-7f9b3db5b02e"
      },
      "execution_count": 19,
      "outputs": [
        {
          "output_type": "stream",
          "name": "stdout",
          "text": [
            "5.0\n",
            "Error: Division by zero is not allowed.\n",
            "None\n",
            "Error: Both arguments must be numbers.\n",
            "None\n",
            "Error: Both arguments must be numbers.\n",
            "None\n"
          ]
        }
      ]
    },
    {
      "cell_type": "markdown",
      "source": [
        "13.\tHow would you check if a file exists before attempting to read it in Python?"
      ],
      "metadata": {
        "id": "hOCk_MqF39UM"
      }
    },
    {
      "cell_type": "code",
      "source": [
        "import os\n",
        "\n",
        "file_path = \"example.txt\"\n",
        "\n",
        "if os.path.exists(file_path):\n",
        "    # Open and read the file if it exists\n",
        "    with open(file_path, \"r\") as file:\n",
        "        content = file.read()\n",
        "        print(content)\n",
        "else:\n",
        "    # Print an error message if the file does not exist\n",
        "    print(\"Error: The file does not exist.\")\n"
      ],
      "metadata": {
        "colab": {
          "base_uri": "https://localhost:8080/"
        },
        "id": "BNO3JFhU4G4r",
        "outputId": "247cf281-9ea2-4f33-f43a-d405012b920b"
      },
      "execution_count": 20,
      "outputs": [
        {
          "output_type": "stream",
          "name": "stdout",
          "text": [
            "Hello, world!This is the new content being appended.\n",
            "\n"
          ]
        }
      ]
    },
    {
      "cell_type": "markdown",
      "source": [
        "14.\tWrite a program that uses the logging module to log both informational and error messages."
      ],
      "metadata": {
        "id": "I8Z5gkqc4UoT"
      }
    },
    {
      "cell_type": "code",
      "source": [
        "import logging\n",
        "\n",
        "logging.basicConfig(filename='app_log.txt', level=logging.INFO,\n",
        "                    format='%(asctime)s - %(levelname)s - %(message)s')\n",
        "\n",
        "try:\n",
        "    logging.info(\"Program started.\")\n",
        "\n",
        "    result = 10 / 0\n",
        "\n",
        "    logging.info(\"Operation successful: Result is %s\", result)\n",
        "\n",
        "except ZeroDivisionError:\n",
        "    logging.error(\"Error: Division by zero occurred.\")\n",
        "\n",
        "logging.info(\"Program ended.\")\n"
      ],
      "metadata": {
        "colab": {
          "base_uri": "https://localhost:8080/"
        },
        "id": "J5qsM85x4rx8",
        "outputId": "9d6c3d0f-adc7-4230-8074-ca8773c837b1"
      },
      "execution_count": 26,
      "outputs": [
        {
          "output_type": "stream",
          "name": "stderr",
          "text": [
            "ERROR:root:Error: Division by zero occurred.\n"
          ]
        }
      ]
    },
    {
      "cell_type": "markdown",
      "source": [
        "15.\tWrite a Python program that prints the content of a file and handles the case when the file is empty."
      ],
      "metadata": {
        "id": "M172Ms8s6-zs"
      }
    },
    {
      "cell_type": "code",
      "source": [
        "file_path = \"example.txt\"\n",
        "\n",
        "try:\n",
        "    with open(file_path, \"r\") as file:\n",
        "        content = file.read()\n",
        "\n",
        "        if not content:\n",
        "            print(\"The file is empty.\")\n",
        "        else:\n",
        "            print(\"File content:\")\n",
        "            print(content)\n",
        "\n",
        "except FileNotFoundError:\n",
        "    print(\"Error: The file does not exist. Please check the file name and try again.\")\n",
        "except IOError:\n",
        "    print(\"Error: An I/O error occurred while trying to read the file.\")\n"
      ],
      "metadata": {
        "colab": {
          "base_uri": "https://localhost:8080/"
        },
        "id": "nmD_9OER7DYK",
        "outputId": "38029d7e-e25f-4f7d-8c81-e8b46303b89a"
      },
      "execution_count": 27,
      "outputs": [
        {
          "output_type": "stream",
          "name": "stdout",
          "text": [
            "File content:\n",
            "Hello, world!This is the new content being appended.\n",
            "\n"
          ]
        }
      ]
    },
    {
      "cell_type": "markdown",
      "source": [
        "16.\tDemonstrate how to use memory profiling to check the memory usage of a small program."
      ],
      "metadata": {
        "id": "BCuy9aGm7Sdr"
      }
    },
    {
      "cell_type": "code",
      "source": [
        "# install the memory_profiler module. You can do this using pip:\n",
        "# Not taught so far"
      ],
      "metadata": {
        "id": "r5Qieols8V6-"
      },
      "execution_count": null,
      "outputs": []
    },
    {
      "cell_type": "markdown",
      "source": [
        "17.\tWrite a Python program to create and write a list of numbers to a file, one number per line."
      ],
      "metadata": {
        "id": "3nrTKiLM91e8"
      }
    },
    {
      "cell_type": "code",
      "source": [
        "numbers = [1, 2, 3, 4, 5, 6, 7, 8, 9, 10]\n",
        "\n",
        "with open(\"numbers.txt\", \"w\") as file:\n",
        "    for number in numbers:\n",
        "        file.write(f\"{number}\\n\")\n",
        "\n",
        "print(\"Numbers have been written to numbers.txt\")\n"
      ],
      "metadata": {
        "colab": {
          "base_uri": "https://localhost:8080/"
        },
        "id": "a8Qme3YH97bS",
        "outputId": "f9ac168e-0453-47c4-e82f-a3a1a355d047"
      },
      "execution_count": 34,
      "outputs": [
        {
          "output_type": "stream",
          "name": "stdout",
          "text": [
            "Numbers have been written to numbers.txt\n"
          ]
        }
      ]
    },
    {
      "cell_type": "markdown",
      "source": [
        "18.\tHow would you implement a basic logging setup that logs to a file with rotation after lMB?"
      ],
      "metadata": {
        "id": "O0bp22lM-LDz"
      }
    },
    {
      "cell_type": "code",
      "source": [
        "# NOT Covered in Self Paced Classes (recordings), And we are yet to begin the live classes for this entire module. Starting from 9-Feb."
      ],
      "metadata": {
        "id": "hx983uQ0-wce"
      },
      "execution_count": null,
      "outputs": []
    },
    {
      "cell_type": "markdown",
      "source": [
        "19.\tWrite a program that handles both lndexError and KeyError using a try-except block."
      ],
      "metadata": {
        "id": "rFX-bDpNAhDO"
      }
    },
    {
      "cell_type": "code",
      "source": [
        "my_list = [1, 2, 3]\n",
        "my_dict = {\"name\": \"Anurag\", \"age\": 41}\n",
        "\n",
        "try:\n",
        "    # Attempt to access an index that doesn't exist in the list\n",
        "    list_item = my_list[5]\n",
        "    print(f\"List item: {list_item}\")\n",
        "\n",
        "    # Attempt to access a key that doesn't exist in the dictionary\n",
        "    dict_value = my_dict[\"city\"]\n",
        "    print(f\"Dictionary value: {dict_value}\")\n",
        "except IndexError:\n",
        "    # Handle IndexError\n",
        "    print(\"Error: List index out of range.\")\n",
        "except KeyError:\n",
        "    # Handle KeyError\n",
        "    print(\"Error: Dictionary key not found.\")\n"
      ],
      "metadata": {
        "colab": {
          "base_uri": "https://localhost:8080/"
        },
        "id": "AcILorPqAkyB",
        "outputId": "761cdef8-64c5-49b7-cb48-1e09852ccbef"
      },
      "execution_count": 2,
      "outputs": [
        {
          "output_type": "stream",
          "name": "stdout",
          "text": [
            "Error: List index out of range.\n"
          ]
        }
      ]
    },
    {
      "cell_type": "markdown",
      "source": [
        "20.\tHow would you open a file and read its contents using a context manager in Python?"
      ],
      "metadata": {
        "id": "hRy63vMwBHA8"
      }
    },
    {
      "cell_type": "code",
      "source": [
        "file_path = \"example.txt\"\n",
        "\n",
        "with open(file_path, \"r\") as file:\n",
        "    content = file.read()\n",
        "\n",
        "    print(content)\n"
      ],
      "metadata": {
        "colab": {
          "base_uri": "https://localhost:8080/"
        },
        "id": "CMKyZvmJBV7_",
        "outputId": "3ce7aa2f-1ff2-4535-e0a9-d519e9f586e0"
      },
      "execution_count": 3,
      "outputs": [
        {
          "output_type": "stream",
          "name": "stdout",
          "text": [
            "Hello, world!This is the new content being appended.\n",
            "\n"
          ]
        }
      ]
    },
    {
      "cell_type": "markdown",
      "source": [
        "21.\tWrite a Python program that reads a file and prints the number of occurrences of a specific word."
      ],
      "metadata": {
        "id": "frOASqDVBgLw"
      }
    },
    {
      "cell_type": "code",
      "source": [
        "\n",
        "def count_word_occurrences(file_path, target_word):\n",
        "    try:\n",
        "        with open(file_path, \"r\") as file:\n",
        "            content = file.read()\n",
        "\n",
        "        word_count = content.lower().split().count(target_word.lower())\n",
        "        return word_count\n",
        "    except FileNotFoundError:\n",
        "        print(\"Error: The file does not exist.\")\n",
        "        return None\n",
        "    except IOError:\n",
        "        print(\"Error: An I/O error occurred while trying to read the file.\")\n",
        "        return None\n",
        "\n",
        "# Use\n",
        "file_path = \"example.txt\"\n",
        "target_word = \"new\"\n",
        "count = count_word_occurrences(file_path, target_word)\n",
        "if count is not None:\n",
        "    print(f\"The word '{target_word}' occurs {count} times in the file '{file_path}'.\")\n"
      ],
      "metadata": {
        "colab": {
          "base_uri": "https://localhost:8080/"
        },
        "id": "U5PSewV9Br2F",
        "outputId": "58b9b216-689e-4a19-f7ad-84f82e9e1c3a"
      },
      "execution_count": 15,
      "outputs": [
        {
          "output_type": "stream",
          "name": "stdout",
          "text": [
            "The word 'new' occurs 1 times in the file 'example.txt'.\n"
          ]
        }
      ]
    },
    {
      "cell_type": "markdown",
      "source": [
        "22.\tHow can you check if a file is empty before attempting to read its contents?"
      ],
      "metadata": {
        "id": "_CHxG01VDOpG"
      }
    },
    {
      "cell_type": "code",
      "source": [
        "import os\n",
        "\n",
        "file_path = \"example.txt\"\n",
        "\n",
        "if os.path.exists(file_path):\n",
        "    if os.path.getsize(file_path) == 0:\n",
        "        print(\"The file is empty.\")\n",
        "    else:\n",
        "        with open(file_path, \"r\") as file:\n",
        "            content = file.read()\n",
        "            print(\"File content:\")\n",
        "            print(content)\n",
        "else:\n",
        "    print(\"Error: The file does not exist.\")\n"
      ],
      "metadata": {
        "colab": {
          "base_uri": "https://localhost:8080/"
        },
        "id": "snSV700DDXly",
        "outputId": "f69dea94-19ad-4261-b732-f4ef35003a83"
      },
      "execution_count": 19,
      "outputs": [
        {
          "output_type": "stream",
          "name": "stdout",
          "text": [
            "File content:\n",
            "Hello, world!This is the new content being appended.\n",
            "\n"
          ]
        }
      ]
    },
    {
      "cell_type": "markdown",
      "source": [
        "23.\tWrite a Python program that writes to a log file when an error occurs during file handling."
      ],
      "metadata": {
        "id": "RNV6NaAWDhOx"
      }
    },
    {
      "cell_type": "code",
      "source": [
        "import logging\n",
        "\n",
        "logging.basicConfig(filename='file_handling_errors.log', level=logging.ERROR,\n",
        "                    format='%(asctime)s - %(levelname)s - %(message)s')\n",
        "\n",
        "def read_file(file_path):\n",
        "    try:\n",
        "        with open(file_path, \"r\") as file:\n",
        "            content = file.read()\n",
        "            print(\"File content:\")\n",
        "            print(content)\n",
        "    except FileNotFoundError:\n",
        "        logging.error(\"FileNotFoundError: The file '%s' does not exist.\", file_path)\n",
        "        print(f\"Error: The file '{file_path}' does not exist.\")\n",
        "    except IOError:\n",
        "        logging.error(\"IOError: An I/O error occurred while trying to read the file '%s'.\", file_path)\n",
        "        print(f\"Error: An I/O error occurred while trying to read the file '{file_path}'.\")\n",
        "\n",
        "\n",
        "read_file(\"example.txt\")\n"
      ],
      "metadata": {
        "colab": {
          "base_uri": "https://localhost:8080/"
        },
        "id": "jIuDZzIlDlqY",
        "outputId": "bb1df8b5-7027-4a5f-88b8-1212e7867bb8"
      },
      "execution_count": 18,
      "outputs": [
        {
          "output_type": "stream",
          "name": "stdout",
          "text": [
            "File content:\n",
            "Hello, world!This is the new content being appended.\n",
            "\n"
          ]
        }
      ]
    }
  ]
}